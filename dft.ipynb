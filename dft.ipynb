{
 "cells": [
  {
   "cell_type": "code",
   "execution_count": 1,
   "id": "77c9f4f3-4b48-4c2c-b958-62278eed3240",
   "metadata": {},
   "outputs": [],
   "source": [
    "import numpy as np\n",
    "import pyscf\n",
    "from pyscf.pbc import gto, scf, dft"
   ]
  },
  {
   "cell_type": "code",
   "execution_count": 2,
   "id": "2cfbcbfe-36c4-4757-b21d-6a6501b1498d",
   "metadata": {},
   "outputs": [],
   "source": [
    "import matplotlib.pyplot as plt"
   ]
  },
  {
   "cell_type": "code",
   "execution_count": 59,
   "id": "d0dce3ac-a730-4084-9c44-4176610b0f06",
   "metadata": {},
   "outputs": [],
   "source": [
    "d = 1.42 # A\n",
    "m, r = 31, 1\n",
    "theta = np.arccos((3*m*m + 3*m*r + r*r/2) / (3*m*m + 3*m*r + r*r))\n",
    "L = d * np.sqrt(3) / (2 * np.sin(theta/2.))\n",
    "delta = np.array([[0., 0.], [0., d]])\n",
    "tau0 = d * np.sqrt(3) * np.array([[np.sqrt(3)/2., 0.5],[1., 0.]])\n",
    "a = np.sqrt(3) * d * np.array([[1., 0.], [0.5, np.sqrt(3)/2.]])"
   ]
  },
  {
   "cell_type": "code",
   "execution_count": 60,
   "id": "69c58ed3-26b1-4157-b8ba-b1bbf75eb6a5",
   "metadata": {},
   "outputs": [],
   "source": [
    "mn = np.array(np.meshgrid(np.arange(-5,5), np.arange(-5, 5))).reshape(2, -1).T"
   ]
  },
  {
   "cell_type": "code",
   "execution_count": 61,
   "id": "90b34ad7-b8ee-4a67-9f14-410d5fa9e09a",
   "metadata": {},
   "outputs": [],
   "source": [
    "pts = np.tensordot(a, mn, [0,1])"
   ]
  },
  {
   "cell_type": "code",
   "execution_count": 62,
   "id": "630e9a25-a9fa-4578-9ac1-2dbb1f323c67",
   "metadata": {},
   "outputs": [
    {
     "data": {
      "image/png": "[encoded data removed]",
      "text/plain": [
       "<Figure size 432x288 with 1 Axes>"
      ]
     },
     "metadata": {
      "needs_background": "light"
     },
     "output_type": "display_data"
    }
   ],
   "source": [
    "for d in delta:\n",
    "    sl = (pts.T + d).T\n",
    "    plt.scatter(sl[0], sl[1])"
   ]
  },
  {
   "cell_type": "code",
   "execution_count": 63,
   "id": "567a1549-4c12-4898-b65d-ce7b611c3160",
   "metadata": {},
   "outputs": [],
   "source": [
    "a_str = f\"{a[0][0]} {a[0][1]} 0.0\" + '\\n' + f\"{a[1][0]} {a[1][1]} 0.0\"\n",
    "atom_str = f\"C {delta[0][0]} {delta[0][1]} 0.0\\nC {delta[1][0]} {delta[1][1]} 0.0\""
   ]
  },
  {
   "cell_type": "code",
   "execution_count": 64,
   "id": "05b72846-821a-43c2-9b8e-2daf5190f25a",
   "metadata": {},
   "outputs": [],
   "source": [
    "a_adjusted = np.zeros((3,3))\n",
    "a_adjusted[:2,:2] = a\n",
    "a_adjusted[2,2] = 10\n"
   ]
  },
  {
   "cell_type": "code",
   "execution_count": 65,
   "id": "d71f0e31-8bab-4218-bed1-975536138be9",
   "metadata": {},
   "outputs": [
    {
     "data": {
      "text/plain": [
       "array([[ 2.45951215,  0.        ,  0.        ],\n",
       "       [ 1.22975607,  2.13      ,  0.        ],\n",
       "       [ 0.        ,  0.        , 10.        ]])"
      ]
     },
     "execution_count": 65,
     "metadata": {},
     "output_type": "execute_result"
    }
   ],
   "source": [
    "a_adjusted"
   ]
  },
  {
   "cell_type": "code",
   "execution_count": 66,
   "id": "92256ece-801b-4474-bc1f-443614f212fe",
   "metadata": {},
   "outputs": [
    {
     "data": {
      "text/plain": [
       "<pyscf.pbc.gto.cell.Cell at 0x127744400>"
      ]
     },
     "execution_count": 66,
     "metadata": {},
     "output_type": "execute_result"
    }
   ],
   "source": [
    "cell = gto.M(\n",
    "    atom = atom_str,\n",
    "    pseudo = 'gth-pade',\n",
    "    basis = 'gth-szv',\n",
    "    a = a_adjusted,\n",
    "    precision = 1.e-10,\n",
    ")\n",
    "cell.build()\n"
   ]
  },
  {
   "cell_type": "code",
   "execution_count": 76,
   "id": "84e9c10a-9c2d-43dc-9214-4d2de80272b6",
   "metadata": {},
   "outputs": [
    {
     "name": "stderr",
     "output_type": "stream",
     "text": [
      "Overwritten attributes  get_occ get_grad energy_tot  of <class 'pyscf.pbc.dft.krks.KRKS'>\n"
     ]
    },
    {
     "name": "stdout",
     "output_type": "stream",
     "text": [
      "\n",
      "WARN: HOMO 5.54078933232 == LUMO 5.54078990786\n",
      "\n",
      "\n",
      "WARN: HOMO 5.126753175 == LUMO 5.12675353572\n",
      "\n",
      "\n",
      "WARN: HOMO 5.16930833113 == LUMO 5.16930851745\n",
      "\n",
      "\n",
      "WARN: HOMO 5.16920709481 == LUMO 5.1692071342\n",
      "\n",
      "\n",
      "WARN: HOMO 5.16920887256 == LUMO 5.16920893189\n",
      "\n",
      "\n",
      "WARN: HOMO 5.16920897037 == LUMO 5.16920903199\n",
      "\n",
      "\n",
      "WARN: HOMO 5.16966252316 == LUMO 5.16966267696\n",
      "\n",
      "\n",
      "WARN: HOMO 5.16965316953 == LUMO 5.16965318973\n",
      "\n",
      "\n",
      "WARN: HOMO 5.16866633977 == LUMO 5.16866634976\n",
      "\n",
      "\n",
      "WARN: HOMO 5.16866661245 == LUMO 5.16866665305\n",
      "\n",
      "\n",
      "WARN: HOMO 5.16866645699 == LUMO 5.16866647162\n",
      "\n",
      "\n",
      "WARN: HOMO 5.16866660221 == LUMO 5.16866661841\n",
      "\n",
      "\n",
      "WARN: HOMO 5.16866661364 == LUMO 5.16866677268\n",
      "\n",
      "\n",
      "WARN: HOMO 5.16866667393 == LUMO 5.1686667164\n",
      "\n",
      "\n",
      "WARN: HOMO 5.16866663114 == LUMO 5.16866675\n",
      "\n",
      "\n",
      "WARN: HOMO 5.16866698431 == LUMO 5.16866702326\n",
      "\n",
      "\n",
      "WARN: HOMO 5.16866703386 == LUMO 5.16866704109\n",
      "\n",
      "\n",
      "WARN: HOMO 5.16866704806 == LUMO 5.16866705097\n",
      "\n",
      "\n",
      "WARN: HOMO 5.16866704837 == LUMO 5.16866705245\n",
      "\n",
      "\n",
      "WARN: HOMO 5.16866704452 == LUMO 5.16866704962\n",
      "\n",
      "\n",
      "WARN: HOMO 5.16866682793 == LUMO 5.16866698259\n",
      "\n",
      "\n",
      "WARN: HOMO 5.16866680785 == LUMO 5.16866682081\n",
      "\n",
      "\n",
      "WARN: HOMO 5.1686667325 == LUMO 5.16866675599\n",
      "\n",
      "\n",
      "WARN: HOMO 5.16866632942 == LUMO 5.16866635282\n",
      "\n",
      "\n",
      "WARN: HOMO 5.16866613119 == LUMO 5.16866650017\n",
      "\n",
      "\n",
      "WARN: HOMO 5.16866677766 == LUMO 5.16866689818\n",
      "\n",
      "\n",
      "WARN: HOMO 5.16866661928 == LUMO 5.16866675625\n",
      "\n",
      "\n",
      "WARN: HOMO 5.16866680546 == LUMO 5.16866680772\n",
      "\n",
      "\n",
      "WARN: HOMO 5.16866696837 == LUMO 5.16866701393\n",
      "\n",
      "\n",
      "WARN: HOMO 5.16866688227 == LUMO 5.16866702216\n",
      "\n",
      "\n",
      "WARN: HOMO 5.16866707829 == LUMO 5.16866710126\n",
      "\n",
      "\n",
      "WARN: HOMO 5.16866709518 == LUMO 5.16866709771\n",
      "\n",
      "\n",
      "WARN: HOMO 5.16866707926 == LUMO 5.16866709371\n",
      "\n",
      "\n",
      "WARN: HOMO 5.16866707883 == LUMO 5.16866708936\n",
      "\n",
      "\n",
      "WARN: HOMO 5.16866707684 == LUMO 5.16866713217\n",
      "\n",
      "\n",
      "WARN: HOMO 5.16866707528 == LUMO 5.16866710272\n",
      "\n",
      "\n",
      "WARN: HOMO 5.16866675881 == LUMO 5.16866685843\n",
      "\n",
      "\n",
      "WARN: HOMO 5.16866683128 == LUMO 5.16866684354\n",
      "\n",
      "\n",
      "WARN: HOMO 5.16866638176 == LUMO 5.16866638229\n",
      "\n",
      "\n",
      "WARN: HOMO 5.16866652297 == LUMO 5.16866667769\n",
      "\n",
      "\n",
      "WARN: HOMO 5.16866659558 == LUMO 5.16866671205\n",
      "\n",
      "\n",
      "WARN: HOMO 5.16866666366 == LUMO 5.16866682384\n",
      "\n",
      "\n",
      "WARN: HOMO 5.16866678401 == LUMO 5.16866695236\n",
      "\n",
      "\n",
      "WARN: HOMO 5.1686670589 == LUMO 5.1686670825\n",
      "\n",
      "\n",
      "WARN: HOMO 5.16866704812 == LUMO 5.1686670755\n",
      "\n",
      "\n",
      "WARN: HOMO 5.16866707732 == LUMO 5.16866709614\n",
      "\n",
      "\n",
      "WARN: HOMO 5.1686670728 == LUMO 5.16866709566\n",
      "\n",
      "\n",
      "WARN: HOMO 5.16866707537 == LUMO 5.16866710897\n",
      "\n",
      "\n",
      "WARN: HOMO 5.16866708111 == LUMO 5.16866715094\n",
      "\n",
      "SCF not converged.\n",
      "SCF energy = 5.93584241486205\n"
     ]
    }
   ],
   "source": [
    "kmf = dft.KRKS(cell, kpts=cell.make_kpts([2,2,1]))\n",
    "kmf = scf.addons.smearing_(kmf, sigma=0.01, method='fermi').run()\n",
    "# overlap = kmf.get_ovlp() get_fock get_hcore"
   ]
  },
  {
   "cell_type": "code",
   "execution_count": 73,
   "id": "72fa8c4b-4d1e-4af5-8c62-7eae470deac0",
   "metadata": {},
   "outputs": [
    {
     "data": {
      "text/plain": [
       "array([0.13780134, 0.18798731, 0.20746172, 0.61732677, 0.97224909,\n",
       "       1.0269237 , 1.84609139, 2.73048579])"
      ]
     },
     "execution_count": 73,
     "metadata": {},
     "output_type": "execute_result"
    }
   ],
   "source": [
    "la.eigvalsh(overlap[3])"
   ]
  },
  {
   "cell_type": "code",
   "execution_count": null,
   "id": "50f60d89-40e8-486d-8346-620393d504c9",
   "metadata": {},
   "outputs": [],
   "source": [
    "k"
   ]
  }
 ],
 "metadata": {
  "kernelspec": {
   "display_name": "Python 3 (ipykernel)",
   "language": "python",
   "name": "python3"
  },
  "language_info": {
   "codemirror_mode": {
    "name": "ipython",
    "version": 3
   },
   "file_extension": ".py",
   "mimetype": "text/x-python",
   "name": "python",
   "nbconvert_exporter": "python",
   "pygments_lexer": "ipython3",
   "version": "3.9.7"
  }
 },
 "nbformat": 4,
 "nbformat_minor": 5
}
