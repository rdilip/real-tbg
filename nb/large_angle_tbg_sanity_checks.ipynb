{
 "cells": [
  {
   "cell_type": "markdown",
   "id": "79acdf48-cea8-4b0e-a7df-7d8d737353c8",
   "metadata": {},
   "source": [
    "# Checking truncation with TBG at large angles"
   ]
  },
  {
   "cell_type": "code",
   "execution_count": 1,
   "id": "87cca4ca-8816-4fa0-97d8-0d23d49cd1ae",
   "metadata": {},
   "outputs": [],
   "source": [
    "%load_ext autoreload\n",
    "%autoreload 2"
   ]
  },
  {
   "cell_type": "code",
   "execution_count": 2,
   "id": "3db5f7fa-c1b0-400d-a4c1-c7e832edf68d",
   "metadata": {},
   "outputs": [],
   "source": [
    "import numpy as np\n",
    "import matplotlib.pyplot as plt\n",
    "import matplotlib\n",
    "import sys\n",
    "import time"
   ]
  },
  {
   "cell_type": "code",
   "execution_count": 3,
   "id": "eedca968-dba1-43b7-bd79-0ef4885ee2fe",
   "metadata": {},
   "outputs": [],
   "source": [
    "sys.path.append(\"../src\")\n",
    "import numpy as np\n",
    "from geometry import get_tbg_unit_cell, TBGGeom\n",
    "from hamiltonians import tbg_k_hamiltonian, tbg_neighbor_cell_hamiltonian\n",
    "from tb import high_symmetry_path"
   ]
  },
  {
   "cell_type": "markdown",
   "id": "68420b11-5fd3-422a-818e-6f9c04e70e32",
   "metadata": {
    "tags": []
   },
   "source": [
    "# Okay let's gut check the band structure for small angles..."
   ]
  },
  {
   "cell_type": "code",
   "execution_count": 6,
   "id": "47b70415-944a-4199-96a7-2e52fd953019",
   "metadata": {},
   "outputs": [],
   "source": [
    "geom = TBGGeom(d=1, m=2)\n",
    "Npts = 10\n",
    "ktargets = [geom.K, geom.Gamma, geom.M, geom.K]\n",
    "kpts, dkpts = high_symmetry_path(ktargets, Npts)"
   ]
  },
  {
   "cell_type": "code",
   "execution_count": 12,
   "id": "f4d10132-e5ed-4cb5-9282-d5d249ae02de",
   "metadata": {},
   "outputs": [
    {
     "name": "stdout",
     "output_type": "stream",
     "text": [
      "2.994354248046875\n"
     ]
    }
   ],
   "source": [
    "start = time.time()\n",
    "HR, Ts = tbg_neighbor_cell_hamiltonian(m=geom.m, d=geom.d, t=1.)\n",
    "Hk = tbg_k_hamiltonian(kpts=kpts, m=geom.m, HR=HR, Ts=Ts)\n",
    "print(time.time() - start)\n",
    "#evals = np.linalg.eigvalsh(Hk)"
   ]
  },
  {
   "cell_type": "code",
   "execution_count": 16,
   "id": "b9f29ba1-eb87-4d44-b2a7-24a53f1c7075",
   "metadata": {},
   "outputs": [
    {
     "ename": "KeyboardInterrupt",
     "evalue": "",
     "output_type": "error",
     "traceback": [
      "\u001b[0;31m---------------------------------------------------------------------------\u001b[0m",
      "\u001b[0;31mKeyboardInterrupt\u001b[0m                         Traceback (most recent call last)",
      "Input \u001b[0;32mIn [16]\u001b[0m, in \u001b[0;36m<module>\u001b[0;34m\u001b[0m\n\u001b[1;32m      1\u001b[0m start \u001b[38;5;241m=\u001b[39m time\u001b[38;5;241m.\u001b[39mtime()\n\u001b[1;32m      2\u001b[0m \u001b[38;5;28;01mfor\u001b[39;00m i \u001b[38;5;129;01min\u001b[39;00m \u001b[38;5;28mrange\u001b[39m(\u001b[38;5;28mlen\u001b[39m(kpts)):\n\u001b[0;32m----> 3\u001b[0m     Hk \u001b[38;5;241m=\u001b[39m \u001b[43mtbg_k_hamiltonian\u001b[49m\u001b[43m(\u001b[49m\u001b[43mkpts\u001b[49m\u001b[38;5;241;43m=\u001b[39;49m\u001b[43m[\u001b[49m\u001b[43mkpts\u001b[49m\u001b[43m[\u001b[49m\u001b[43mi\u001b[49m\u001b[43m]\u001b[49m\u001b[43m]\u001b[49m\u001b[43m,\u001b[49m\u001b[43m \u001b[49m\u001b[43mm\u001b[49m\u001b[38;5;241;43m=\u001b[39;49m\u001b[43mgeom\u001b[49m\u001b[38;5;241;43m.\u001b[39;49m\u001b[43mm\u001b[49m\u001b[43m)\u001b[49m\n\u001b[1;32m      4\u001b[0m \u001b[38;5;28mprint\u001b[39m(time\u001b[38;5;241m.\u001b[39mtime() \u001b[38;5;241m-\u001b[39m start)\n",
      "File \u001b[0;32m~/Documents/gkc/real-tbg/nb/../src/hamiltonians.py:176\u001b[0m, in \u001b[0;36mtbg_k_hamiltonian\u001b[0;34m(kpts, m, d, t, HR, Ts)\u001b[0m\n\u001b[1;32m    163\u001b[0m \u001b[38;5;124;03m\"\"\"\u001b[39;00m\n\u001b[1;32m    164\u001b[0m \u001b[38;5;124;03mSetup the k point Hamiltonian for a tbg lattice. Assumes constant interlayer \u001b[39;00m\n\u001b[1;32m    165\u001b[0m \u001b[38;5;124;03mspacing -- not strictly correct. This isn't very efficient since we compute all the\u001b[39;00m\n\u001b[0;32m   (...)\u001b[0m\n\u001b[1;32m    173\u001b[0m \n\u001b[1;32m    174\u001b[0m \u001b[38;5;124;03m\"\"\"\u001b[39;00m\n\u001b[1;32m    175\u001b[0m \u001b[38;5;28;01mif\u001b[39;00m HR \u001b[38;5;129;01mis\u001b[39;00m \u001b[38;5;28;01mNone\u001b[39;00m \u001b[38;5;129;01mor\u001b[39;00m Ts \u001b[38;5;129;01mis\u001b[39;00m \u001b[38;5;28;01mNone\u001b[39;00m:\n\u001b[0;32m--> 176\u001b[0m     HR, Ts \u001b[38;5;241m=\u001b[39m \u001b[43mtbg_neighbor_cell_hamiltonian\u001b[49m\u001b[43m(\u001b[49m\u001b[43mm\u001b[49m\u001b[38;5;241;43m=\u001b[39;49m\u001b[43mm\u001b[49m\u001b[43m,\u001b[49m\u001b[43m \u001b[49m\u001b[43md\u001b[49m\u001b[38;5;241;43m=\u001b[39;49m\u001b[43md\u001b[49m\u001b[43m,\u001b[49m\u001b[43m \u001b[49m\u001b[43mt\u001b[49m\u001b[38;5;241;43m=\u001b[39;49m\u001b[43mt\u001b[49m\u001b[43m)\u001b[49m\n\u001b[1;32m    177\u001b[0m phases \u001b[38;5;241m=\u001b[39m np\u001b[38;5;241m.\u001b[39mexp(\u001b[38;5;241m1.\u001b[39mj \u001b[38;5;241m*\u001b[39m np\u001b[38;5;241m.\u001b[39meinsum(\u001b[38;5;124m\"\u001b[39m\u001b[38;5;124mki,ti->kt\u001b[39m\u001b[38;5;124m\"\u001b[39m, kpts, Ts[:, :\u001b[38;5;241m2\u001b[39m]))\n\u001b[1;32m    178\u001b[0m Hk \u001b[38;5;241m=\u001b[39m np\u001b[38;5;241m.\u001b[39mtensordot(phases, HR, axes\u001b[38;5;241m=\u001b[39m[\u001b[38;5;241m1\u001b[39m,\u001b[38;5;241m0\u001b[39m])\n",
      "File \u001b[0;32m~/Documents/gkc/real-tbg/nb/../src/hamiltonians.py:154\u001b[0m, in \u001b[0;36mtbg_neighbor_cell_hamiltonian\u001b[0;34m(m, d, t, mn)\u001b[0m\n\u001b[1;32m    151\u001b[0m all_pts \u001b[38;5;241m=\u001b[39m np\u001b[38;5;241m.\u001b[39mvstack([uc[pt] \u001b[38;5;28;01mfor\u001b[39;00m pt \u001b[38;5;129;01min\u001b[39;00m uc])\n\u001b[1;32m    153\u001b[0m Ts \u001b[38;5;241m=\u001b[39m np\u001b[38;5;241m.\u001b[39mhstack([Ts, np\u001b[38;5;241m.\u001b[39mzeros((Ts\u001b[38;5;241m.\u001b[39mshape[\u001b[38;5;241m0\u001b[39m], \u001b[38;5;241m1\u001b[39m))])\n\u001b[0;32m--> 154\u001b[0m HR \u001b[38;5;241m=\u001b[39m np\u001b[38;5;241m.\u001b[39marray([_tbg_tb_hamiltonian(all_pts, all_pts\u001b[38;5;241m+\u001b[39mT, d, geom\u001b[38;5;241m.\u001b[39mh) \u001b[38;5;28;01mfor\u001b[39;00m T \u001b[38;5;129;01min\u001b[39;00m Ts])\n\u001b[1;32m    155\u001b[0m \u001b[38;5;28;01mreturn\u001b[39;00m HR, Ts\n",
      "File \u001b[0;32m~/Documents/gkc/real-tbg/nb/../src/hamiltonians.py:154\u001b[0m, in \u001b[0;36m<listcomp>\u001b[0;34m(.0)\u001b[0m\n\u001b[1;32m    151\u001b[0m all_pts \u001b[38;5;241m=\u001b[39m np\u001b[38;5;241m.\u001b[39mvstack([uc[pt] \u001b[38;5;28;01mfor\u001b[39;00m pt \u001b[38;5;129;01min\u001b[39;00m uc])\n\u001b[1;32m    153\u001b[0m Ts \u001b[38;5;241m=\u001b[39m np\u001b[38;5;241m.\u001b[39mhstack([Ts, np\u001b[38;5;241m.\u001b[39mzeros((Ts\u001b[38;5;241m.\u001b[39mshape[\u001b[38;5;241m0\u001b[39m], \u001b[38;5;241m1\u001b[39m))])\n\u001b[0;32m--> 154\u001b[0m HR \u001b[38;5;241m=\u001b[39m np\u001b[38;5;241m.\u001b[39marray([\u001b[43m_tbg_tb_hamiltonian\u001b[49m\u001b[43m(\u001b[49m\u001b[43mall_pts\u001b[49m\u001b[43m,\u001b[49m\u001b[43m \u001b[49m\u001b[43mall_pts\u001b[49m\u001b[38;5;241;43m+\u001b[39;49m\u001b[43mT\u001b[49m\u001b[43m,\u001b[49m\u001b[43m \u001b[49m\u001b[43md\u001b[49m\u001b[43m,\u001b[49m\u001b[43m \u001b[49m\u001b[43mgeom\u001b[49m\u001b[38;5;241;43m.\u001b[39;49m\u001b[43mh\u001b[49m\u001b[43m)\u001b[49m \u001b[38;5;28;01mfor\u001b[39;00m T \u001b[38;5;129;01min\u001b[39;00m Ts])\n\u001b[1;32m    155\u001b[0m \u001b[38;5;28;01mreturn\u001b[39;00m HR, Ts\n",
      "File \u001b[0;32m~/Documents/gkc/real-tbg/nb/../src/hamiltonians.py:121\u001b[0m, in \u001b[0;36m_tbg_tb_hamiltonian\u001b[0;34m(cell1, cell2, d, h)\u001b[0m\n\u001b[1;32m    119\u001b[0m r0 \u001b[38;5;241m=\u001b[39m \u001b[38;5;241m0.184\u001b[39m \u001b[38;5;241m*\u001b[39m np\u001b[38;5;241m.\u001b[39msqrt(\u001b[38;5;241m3\u001b[39m) \u001b[38;5;241m*\u001b[39m d \u001b[38;5;66;03m# decay length\u001b[39;00m\n\u001b[1;32m    120\u001b[0m R \u001b[38;5;241m=\u001b[39m cell1[:, np\u001b[38;5;241m.\u001b[39mnewaxis, :] \u001b[38;5;241m-\u001b[39m cell2[np\u001b[38;5;241m.\u001b[39mnewaxis, :, :]\n\u001b[0;32m--> 121\u001b[0m Rn \u001b[38;5;241m=\u001b[39m \u001b[43mnp\u001b[49m\u001b[38;5;241;43m.\u001b[39;49m\u001b[43mlinalg\u001b[49m\u001b[38;5;241;43m.\u001b[39;49m\u001b[43mnorm\u001b[49m\u001b[43m(\u001b[49m\u001b[43mR\u001b[49m\u001b[43m,\u001b[49m\u001b[43m \u001b[49m\u001b[43maxis\u001b[49m\u001b[38;5;241;43m=\u001b[39;49m\u001b[38;5;241;43m2\u001b[39;49m\u001b[43m)\u001b[49m\n\u001b[1;32m    122\u001b[0m \u001b[38;5;66;03m# Vppx = -2.7 * np.exp(-(Rn - d) / r0)\u001b[39;00m\n\u001b[1;32m    123\u001b[0m Vppx \u001b[38;5;241m=\u001b[39m \u001b[38;5;241m-\u001b[39m\u001b[38;5;241m2.7\u001b[39m \u001b[38;5;241m*\u001b[39m (Rn \u001b[38;5;241m<\u001b[39m\u001b[38;5;241m=\u001b[39m d \u001b[38;5;241m+\u001b[39m \u001b[38;5;241m1.e-10\u001b[39m)\n",
      "File \u001b[0;32m<__array_function__ internals>:180\u001b[0m, in \u001b[0;36mnorm\u001b[0;34m(*args, **kwargs)\u001b[0m\n",
      "File \u001b[0;32m~/mambaforge/lib/python3.9/site-packages/numpy/linalg/linalg.py:2547\u001b[0m, in \u001b[0;36mnorm\u001b[0;34m(x, ord, axis, keepdims)\u001b[0m\n\u001b[1;32m   2544\u001b[0m \u001b[38;5;28;01melif\u001b[39;00m \u001b[38;5;28mord\u001b[39m \u001b[38;5;129;01mis\u001b[39;00m \u001b[38;5;28;01mNone\u001b[39;00m \u001b[38;5;129;01mor\u001b[39;00m \u001b[38;5;28mord\u001b[39m \u001b[38;5;241m==\u001b[39m \u001b[38;5;241m2\u001b[39m:\n\u001b[1;32m   2545\u001b[0m     \u001b[38;5;66;03m# special case for speedup\u001b[39;00m\n\u001b[1;32m   2546\u001b[0m     s \u001b[38;5;241m=\u001b[39m (x\u001b[38;5;241m.\u001b[39mconj() \u001b[38;5;241m*\u001b[39m x)\u001b[38;5;241m.\u001b[39mreal\n\u001b[0;32m-> 2547\u001b[0m     \u001b[38;5;28;01mreturn\u001b[39;00m sqrt(\u001b[43madd\u001b[49m\u001b[38;5;241;43m.\u001b[39;49m\u001b[43mreduce\u001b[49m\u001b[43m(\u001b[49m\u001b[43ms\u001b[49m\u001b[43m,\u001b[49m\u001b[43m \u001b[49m\u001b[43maxis\u001b[49m\u001b[38;5;241;43m=\u001b[39;49m\u001b[43maxis\u001b[49m\u001b[43m,\u001b[49m\u001b[43m \u001b[49m\u001b[43mkeepdims\u001b[49m\u001b[38;5;241;43m=\u001b[39;49m\u001b[43mkeepdims\u001b[49m\u001b[43m)\u001b[49m)\n\u001b[1;32m   2548\u001b[0m \u001b[38;5;66;03m# None of the str-type keywords for ord ('fro', 'nuc')\u001b[39;00m\n\u001b[1;32m   2549\u001b[0m \u001b[38;5;66;03m# are valid for vectors\u001b[39;00m\n\u001b[1;32m   2550\u001b[0m \u001b[38;5;28;01melif\u001b[39;00m \u001b[38;5;28misinstance\u001b[39m(\u001b[38;5;28mord\u001b[39m, \u001b[38;5;28mstr\u001b[39m):\n",
      "\u001b[0;31mKeyboardInterrupt\u001b[0m: "
     ]
    }
   ],
   "source": [
    "start = time.time()\n",
    "for i in range(len(kpts)):\n",
    "    Hk = tbg_k_hamiltonian(kpts=[kpts[i]], m=geom.m)\n",
    "print(time.time() - start)"
   ]
  },
  {
   "cell_type": "code",
   "execution_count": null,
   "id": "06bd793e-c8e5-42f8-b97e-f666b71cfa61",
   "metadata": {},
   "outputs": [],
   "source": [
    "Hk = tbg_k_hamiltonian(kpts=[kpts[i]]"
   ]
  },
  {
   "cell_type": "code",
   "execution_count": 28,
   "id": "a1719b99-94ce-42e2-af0c-6d558a85d6a4",
   "metadata": {},
   "outputs": [
    {
     "data": {
      "text/plain": [
       "2268.807424"
      ]
     },
     "execution_count": 28,
     "metadata": {},
     "output_type": "execute_result"
    }
   ],
   "source": [
    "Hk.nbytes * 1.e-6"
   ]
  },
  {
   "cell_type": "code",
   "execution_count": 36,
   "id": "e697c57c-7518-47f1-b18d-34a75e703afd",
   "metadata": {},
   "outputs": [
    {
     "data": {
      "image/png": "[encoded data removed]",
      "text/plain": [
       "<Figure size 432x288 with 1 Axes>"
      ]
     },
     "metadata": {
      "needs_background": "light"
     },
     "output_type": "display_data"
    }
   ],
   "source": [
    "for m in [3,5,7,9,11]:\n",
    "    geom = Geom(d=1, m=m)\n",
    "    Npts = 10\n",
    "    ktargets = [geom.K, geom.Gamma, geom.M, geom.K]\n",
    "    kpts, dkpts = high_symmetry_path(ktargets, Npts)\n",
    "\n",
    "\n",
    "    Hk = tbg_k_hamiltonian(kpts=kpts, m=geom.m, batched=True)\n",
    "    evals = np.linalg.eigvalsh(Hk)\n",
    "\n",
    "    plt.plot(dkpts, evals[1:]);\n",
    "    plt.xticks(dkpts[::Npts-1], labels=[\"K\", \"Gamma\", \"M\", \"K\"])\n",
    "    plt.ylim(-.25, .25)\n",
    "    plt.xlabel(\"k path\", fontsize=14)\n",
    "    plt.ylabel(\"Energy (eV)\", fontsize=14)\n",
    "    plt.title(f\"m={geom.m}\", fontsize=20)\n",
    "    plt.savefig(f\"img/tbg_bs_m{geom.m}.png\", dpi=150)\n",
    "    plt.cla()\n",
    "    # lgtm"
   ]
  },
  {
   "cell_type": "code",
   "execution_count": 36,
   "id": "ec60efe3-21c6-421a-a3ef-0a3660ed6ee7",
   "metadata": {},
   "outputs": [
    {
     "data": {
      "text/plain": [
       "(61, 676, 676)"
      ]
     },
     "execution_count": 36,
     "metadata": {},
     "output_type": "execute_result"
    }
   ],
   "source": [
    "Hk.shape"
   ]
  },
  {
   "cell_type": "markdown",
   "id": "2eb2bce2-5647-4b3d-99ad-280d2d65cbe8",
   "metadata": {},
   "source": [
    "# Now we do on a mesh"
   ]
  },
  {
   "cell_type": "code",
   "execution_count": null,
   "id": "e60ba5f5-7ee4-4a95-a639-1a3f4e34efe8",
   "metadata": {},
   "outputs": [],
   "source": [
    "geom = Geom(d=1, m=7)\n",
    "Ncells = (4,4)\n",
    "N = np.prod(Ncells)\n",
    "ks = get_kpt_mesh(Ncells, geom.b.T, shift=None)"
   ]
  },
  {
   "cell_type": "code",
   "execution_count": null,
   "id": "9a33dd62-410e-4078-87b0-a63a2382cb84",
   "metadata": {},
   "outputs": [],
   "source": [
    "\n",
    "H, basis, T = mlg_hamiltonian(Ncells, geom.a, t=1)\n",
    "T = T.reshape(N, 2)\n",
    "\n",
    "chik = get_bloch_wavefunction(ks, T, basis)\n",
    "Hk = np.einsum(\"kim,ij,kjn->kmn\", chik.conj(), H, chik)\n",
    "evals = np.linalg.eigvalsh(Hk)\n",
    "ediff = np.diff(evals, axis=1).squeeze()\n",
    "\n",
    "H = H.reshape((np.prod(Ncells)*2, np.prod(Ncells)*2))\n",
    "Px = get_momentum_operator(chik, ks[:,0])\n",
    "Py = get_momentum_operator(chik, ks[:,1])"
   ]
  }
 ],
 "metadata": {
  "kernelspec": {
   "display_name": "Python 3 (ipykernel)",
   "language": "python",
   "name": "python3"
  },
  "language_info": {
   "codemirror_mode": {
    "name": "ipython",
    "version": 3
   },
   "file_extension": ".py",
   "mimetype": "text/x-python",
   "name": "python",
   "nbconvert_exporter": "python",
   "pygments_lexer": "ipython3",
   "version": "3.9.7"
  }
 },
 "nbformat": 4,
 "nbformat_minor": 5
}
