{
 "cells": [
  {
   "cell_type": "markdown",
   "id": "b9e924d0-cf6a-43f1-899b-2b3140e4768a",
   "metadata": {},
   "source": [
    "# 2D MLG sanity checks"
   ]
  },
  {
   "cell_type": "code",
   "execution_count": 22,
   "id": "4b9a7b88-20dc-40f8-953d-0da630929ba8",
   "metadata": {},
   "outputs": [
    {
     "name": "stdout",
     "output_type": "stream",
     "text": [
      "The autoreload extension is already loaded. To reload it, use:\n",
      "  %reload_ext autoreload\n"
     ]
    }
   ],
   "source": [
    "%load_ext autoreload\n",
    "%autoreload 2"
   ]
  },
  {
   "cell_type": "code",
   "execution_count": 23,
   "id": "6f62a67d-de17-422b-a5cd-b89e6ece97ef",
   "metadata": {},
   "outputs": [],
   "source": [
    "import numpy as np\n",
    "import matplotlib.pyplot as plt\n",
    "import matplotlib\n",
    "import sys\n",
    "sys.path.append(\"../src\")"
   ]
  },
  {
   "cell_type": "code",
   "execution_count": 24,
   "id": "2a0b4a7b-6f56-427e-80a8-a2e6afee0670",
   "metadata": {},
   "outputs": [],
   "source": [
    "from hamiltonians import *\n",
    "from tb import *\n",
    "from utils import check_pt_in_lst, check_lst_in_lst, check_lsts_equal\n",
    "from geometry import MLGGeom\n",
    "from plot import make_patch_function, get_shifted_brillouin_zone_path"
   ]
  },
  {
   "cell_type": "markdown",
   "id": "d554dc9f-9612-46f7-8f35-4ba2fcc526ea",
   "metadata": {},
   "source": [
    "## First sanity check: does $\\langle\\chi_k\\vert H\\vert\\chi_k\\rangle$ produce the same eigenvalues as the analytically known form of the Hamiltonian"
   ]
  },
  {
   "cell_type": "code",
   "execution_count": 25,
   "id": "21100217-1e23-4085-82bd-8d0fd312feb1",
   "metadata": {},
   "outputs": [
    {
     "data": {
      "text/plain": [
       "True"
      ]
     },
     "execution_count": 25,
     "metadata": {},
     "output_type": "execute_result"
    }
   ],
   "source": [
    "geom = MLGGeom(d=1)\n",
    "Ncells = (4, 4)\n",
    "N = np.prod(Ncells)\n",
    "ks = get_kpt_mesh(Ncells, geom.b.T, shift=None)\n",
    "H, basis, T = mlg_hamiltonian(Ncells, geom.a, t=1)\n",
    "T = T.reshape((N, -1))\n",
    "chik = get_bloch_wavefunction(ks, T, basis)\n",
    "Hk = np.einsum(\"kim,ij,kjn->kmn\", chik.conj(), H, chik)\n",
    "evals = np.linalg.eigvalsh(Hk)\n",
    "\n",
    "Hk2 = mlg_k_hamiltonian(ks, t=1, deltas=geom.deltas)\n",
    "evals2 = np.linalg.eigvalsh(Hk2)\n",
    "\n",
    "np.allclose(evals, evals2)"
   ]
  },
  {
   "cell_type": "markdown",
   "id": "f399ea28-f0bf-4358-8622-2ec3dcc06226",
   "metadata": {},
   "source": [
    "# Second sanity check: dirac points"
   ]
  },
  {
   "cell_type": "code",
   "execution_count": 26,
   "id": "40174c8d-d8e8-4f0c-bb6b-a53721a61412",
   "metadata": {},
   "outputs": [
    {
     "name": "stdout",
     "output_type": "stream",
     "text": [
      "[[-8.67111902e-16  8.67111902e-16]]\n"
     ]
    }
   ],
   "source": [
    "geom = MLGGeom(d=1)\n",
    "ks = get_kpt_mesh((1,1), geom.b.T, shift=geom.k1)\n",
    "Hk2 = mlg_k_hamiltonian(ks, t=1, deltas=geom.deltas)\n",
    "print(np.linalg.eigvalsh(Hk2))"
   ]
  },
  {
   "cell_type": "markdown",
   "id": "f12d1e25-dbad-491a-9ce2-f8f2d87740c6",
   "metadata": {},
   "source": [
    "# Now, no truncation, just change basis and plot"
   ]
  },
  {
   "cell_type": "code",
   "execution_count": 27,
   "id": "4a4ce410-c09c-4b91-b5a0-d689b6552d72",
   "metadata": {},
   "outputs": [],
   "source": [
    "geom = MLGGeom(d=1)\n",
    "Ncells = (12, 12)\n",
    "N = np.prod(Ncells)\n",
    "ks = get_kpt_mesh(Ncells, geom.b.T, shift=None)\n",
    "\n",
    "H, basis, T = mlg_hamiltonian(Ncells, geom.a, t=1)\n",
    "T = T.reshape(N, 2)\n",
    "\n",
    "chik = get_bloch_wavefunction(ks, T, basis)\n",
    "Hk = np.einsum(\"kim,ij,kjn->kmn\", chik.conj(), H, chik)\n",
    "evals = np.linalg.eigvalsh(Hk)\n",
    "ediff = np.diff(evals, axis=1).squeeze()\n",
    "vmin, vmax = np.min(ediff), np.max(ediff)\n",
    "\n",
    "H = H.reshape((np.prod(Ncells)*2, np.prod(Ncells)*2))\n",
    "Px = get_momentum_operator(chik, ks[:,0])\n",
    "Py = get_momentum_operator(chik, ks[:,1])"
   ]
  },
  {
   "cell_type": "code",
   "execution_count": 28,
   "id": "1ee698f9-5003-49e5-9488-ceb51731672b",
   "metadata": {},
   "outputs": [
    {
     "data": {
      "text/plain": [
       "Text(0.5, 1.0, 'Band structure monolayer graphene')"
      ]
     },
     "execution_count": 28,
     "metadata": {},
     "output_type": "execute_result"
    },
    {
     "data": {
      "image/png": "[encoded data removed]",
      "text/plain": [
       "<Figure size 432x288 with 1 Axes>"
      ]
     },
     "metadata": {
      "needs_background": "light"
     },
     "output_type": "display_data"
    }
   ],
   "source": [
    "plt.gca().set_aspect(1.)\n",
    "plt.pcolormesh(ks[:,0].reshape(Ncells),\n",
    "               ks[:,1].reshape(Ncells),\n",
    "               ediff.reshape(Ncells))\n",
    "\n",
    "plt.xlabel(\"kx\", fontsize=14)\n",
    "plt.ylabel(\"ky\", fontsize=14)\n",
    "plt.title(\"Band structure monolayer graphene\", fontsize=16)\n",
    "# plt.savefig(\"img/bs_mlg.png\", dpi=150)"
   ]
  },
  {
   "cell_type": "code",
   "execution_count": 29,
   "id": "79eedb52-918d-46f4-b6f4-daddf1fe7d5d",
   "metadata": {},
   "outputs": [
    {
     "name": "stdout",
     "output_type": "stream",
     "text": [
      "(288, 288)\n"
     ]
    }
   ],
   "source": [
    "Nblocks = (1, 1)\n",
    "Ncluster_cells = (Ncells[0] // Nblocks[0], Ncells[1] // Nblocks[1])\n",
    "\n",
    "hcluster_pp, b1, T1 = mlg_hamiltonian(Ncluster_cells, geom.a, t=1, bc=[1,1])\n",
    "hcluster_ap, b2, T2 = mlg_hamiltonian(Ncluster_cells, geom.a, t=1, bc=[1,-1])\n",
    "hcluster_pa, b3, T3 = mlg_hamiltonian(Ncluster_cells, geom.a, t=1, bc=[-1,1])\n",
    "hcluster_aa, b4, T4 = mlg_hamiltonian(Ncluster_cells, geom.a, t=1, bc=[-1,-1])\n",
    "\n",
    "ea, ua = np.linalg.eigh(hcluster_pp)\n",
    "eb, ub = np.linalg.eigh(hcluster_ap)\n",
    "ec, uc = np.linalg.eigh(hcluster_pa)\n",
    "ed, ud = np.linalg.eigh(hcluster_aa)\n",
    "\n",
    "ecutoff = 1.1\n",
    "\n",
    "ua = ua[:, np.abs(ea) < ecutoff]\n",
    "ub = ub[:, np.abs(eb) < ecutoff]\n",
    "uc = uc[:, np.abs(ec) < ecutoff]\n",
    "ud = ud[:, np.abs(ed) < ecutoff]\n",
    "\n",
    "u = np.concatenate([ua, ub, uc, ud], axis=1)\n",
    "q, r = np.linalg.qr(u)\n",
    "\n",
    "U = get_block_transformation_matrix(q, np.prod(Nblocks))\n",
    "\n",
    "print(U.shape)"
   ]
  },
  {
   "cell_type": "code",
   "execution_count": 30,
   "id": "7517f048-776a-435b-917b-78e236b0a74a",
   "metadata": {},
   "outputs": [],
   "source": [
    "kr, er, Vp = basis_transform_and_relabel(H, [Px, Py], U, Norb=2)\n",
    "ediff2 = np.diff(er, axis=1).squeeze()\n",
    "ediff2 = np.abs(ediff2) # Hard to keep track of order of energy eigenstates"
   ]
  },
  {
   "cell_type": "code",
   "execution_count": 31,
   "id": "40de16f1-3d9d-4ed2-aa71-b3971d3c96f1",
   "metadata": {},
   "outputs": [
    {
     "data": {
      "image/png": "[encoded data removed]",
      "text/plain": [
       "<Figure size 432x288 with 1 Axes>"
      ]
     },
     "metadata": {
      "needs_background": "light"
     },
     "output_type": "display_data"
    }
   ],
   "source": [
    "cmap = matplotlib.cm.get_cmap(\"viridis\")\n",
    "make_patch = make_patch_function(geom.b, Ncells, cmap, vmin=vmin, vmax=vmax)\n",
    "\n",
    "fig = plt.figure()\n",
    "ax = fig.add_subplot(111, aspect='equal')\n",
    "bz = get_shifted_brillouin_zone_path(geom.b, Ncells)\n",
    "\n",
    "for i in range(len(kr)):\n",
    "    p = make_patch(kr[i], ediff2[i])\n",
    "    ax.add_patch(p)\n",
    "plt.plot(bz.T[0], bz.T[1], c='r')\n",
    "\n",
    "\n",
    "plt.xlabel(\"kx\", fontsize=14)\n",
    "plt.ylabel(\"ky\", fontsize=14)\n",
    "plt.title(\"Band structure mlg no truncation\", fontsize=16)\n",
    "plt.savefig(\"img/bs_mlg_no_trunc.png\", dpi=150)"
   ]
  },
  {
   "cell_type": "markdown",
   "id": "bc76d207-9ff2-43c1-8595-9c988da69475",
   "metadata": {},
   "source": [
    "# Now, let's do truncation"
   ]
  },
  {
   "cell_type": "code",
   "execution_count": 53,
   "id": "2a7a954a-16b0-44bd-8fe0-aa8aff9ea91e",
   "metadata": {},
   "outputs": [],
   "source": [
    "def get_filename(ecutoff, Ncells, truncation, **params):\n",
    "    fname = f\"ecut{ecutoff}_Ncells_{Ncells[0]}x{Ncells[1]}_trunc{truncation}\"\n",
    "    for k in params:\n",
    "        fname += f\"_{k}{params[k]}\"\n",
    "    return fname"
   ]
  },
  {
   "cell_type": "code",
   "execution_count": 158,
   "id": "6608a567-fe40-4fff-aab0-0fa2ff7b8d89",
   "metadata": {},
   "outputs": [],
   "source": [
    "geom = MLGGeom(d=1)\n",
    "ks = get_kpt_mesh((24, 24), geom.b.T, shift=None)\n",
    "Hk = mlg_k_hamiltonian(ks, t=1., deltas=geom.deltas)\n",
    "\n",
    "evals = np.linalg.eigvalsh(Hk)\n",
    "ediff = np.diff(evals, axis=1).squeeze()"
   ]
  },
  {
   "cell_type": "code",
   "execution_count": 154,
   "id": "fc3f47e8-ebed-47f9-91d6-df6a845e51cf",
   "metadata": {
    "tags": []
   },
   "outputs": [],
   "source": [
    "geom = MLGGeom(d=1)\n",
    "Ncells = (24, 24)\n",
    "N = np.prod(Ncells)\n",
    "ks = get_kpt_mesh(Ncells, geom.b.T, shift=None)\n",
    "\n",
    "H, basis, T = mlg_hamiltonian(Ncells, geom.a, t=1)\n",
    "T = T.reshape(N, 2)\n",
    "\n",
    "chik = get_bloch_wavefunction(ks, T, basis)\n",
    "# Hk = np.einsum(\"kim,ij,kjn->kmn\", chik.conj(), H, chik)\n",
    "# evals = np.linalg.eigvalsh(Hk)\n",
    "# ediff = np.diff(evals, axis=1).squeeze()\n",
    "\n",
    "H = H.reshape((np.prod(Ncells)*2, np.prod(Ncells)*2))\n",
    "Px = get_momentum_operator(chik, ks[:,0])\n",
    "Py = get_momentum_operator(chik, ks[:,1])"
   ]
  },
  {
   "cell_type": "code",
   "execution_count": 164,
   "id": "fbb27dd3-0506-4b2f-940a-3cdb85791133",
   "metadata": {},
   "outputs": [
    {
     "name": "stdout",
     "output_type": "stream",
     "text": [
      "(1152, 640)\n"
     ]
    }
   ],
   "source": [
    "Nblocks = (1, 1)\n",
    "Nbc = 4\n",
    "ecutoff = .8\n",
    "Ncluster_cells = (Ncells[0] // Nblocks[0], Ncells[1] // Nblocks[1])\n",
    "\n",
    "hcluster_pp, b1, T1 = mlg_hamiltonian(Ncluster_cells, geom.a, t=1, bc=[1,1])\n",
    "hcluster_ap, b2, T2 = mlg_hamiltonian(Ncluster_cells, geom.a, t=1, bc=[1,-1])\n",
    "hcluster_pa, b3, T3 = mlg_hamiltonian(Ncluster_cells, geom.a, t=1, bc=[-1,1])\n",
    "hcluster_aa, b4, T4 = mlg_hamiltonian(Ncluster_cells, geom.a, t=1, bc=[-1,-1])\n",
    "\n",
    "ea, ua = np.linalg.eigh(hcluster_pp)\n",
    "eb, ub = np.linalg.eigh(hcluster_ap)\n",
    "ec, uc = np.linalg.eigh(hcluster_pa)\n",
    "ed, ud = np.linalg.eigh(hcluster_aa)\n",
    "\n",
    "ua = ua[:, np.abs(ea) < ecutoff]\n",
    "ub = ub[:, np.abs(eb) < ecutoff]\n",
    "uc = uc[:, np.abs(ec) < ecutoff]\n",
    "ud = ud[:, np.abs(ed) < ecutoff]\n",
    "\n",
    "if Nbc == 1:\n",
    "    u = np.concatenate([ua], axis=1)\n",
    "elif Nbc == 2:\n",
    "    u = np.concatenate([ua, ud], axis=1)\n",
    "elif Nbc == 4:\n",
    "    u = np.concatenate([ua, ub, uc, ud], axis=1)\n",
    "    \n",
    "q, r = np.linalg.qr(u)\n",
    "\n",
    "U = get_block_transformation_matrix(q, np.prod(Nblocks))\n",
    "print(U.shape)\n",
    "kr = basis_transform_and_relabel(H, [Px, Py], U, Norb=2)\n",
    "kr, er, Vp = basis_transform_and_relabel(H, [Px, Py], U, Norb=2)\n",
    "ediff2 = np.diff(er, axis=1).squeeze()\n",
    "ediff2 = np.abs(ediff2)"
   ]
  },
  {
   "cell_type": "code",
   "execution_count": 165,
   "id": "cecdd0d0-1391-459b-872e-ef63fdffdff4",
   "metadata": {},
   "outputs": [
    {
     "data": {
      "text/plain": [
       "[<matplotlib.lines.Line2D at 0x2aa32afa0>]"
      ]
     },
     "execution_count": 165,
     "metadata": {},
     "output_type": "execute_result"
    },
    {
     "data": {
      "image/png": "[encoded data removed]",
      "text/plain": [
       "<Figure size 432x288 with 1 Axes>"
      ]
     },
     "metadata": {
      "needs_background": "light"
     },
     "output_type": "display_data"
    }
   ],
   "source": [
    "cmap = matplotlib.cm.get_cmap(\"viridis\")\n",
    "fname = get_filename(ecutoff, Ncells, U.shape[-1], bc=Nbc)\n",
    "make_patch = make_patch_function(geom.b, Ncells, cmap, vmin=vmin, vmax=vmax)\n",
    "\n",
    "fig = plt.figure()\n",
    "ax = fig.add_subplot(111, aspect='equal')\n",
    "bz = get_shifted_brillouin_zone_path(geom.b, Ncells)\n",
    "\n",
    "for i in range(len(ediff2)):\n",
    "    p = make_patch(kr[i], ediff2[i])\n",
    "    ax.add_patch(p)\n",
    "plt.plot(bz.T[0], bz.T[1], c='r')\n",
    "\n",
    "# plt.xlabel(\"kx\", fontsize=14)\n",
    "# plt.ylabel(\"ky\", fontsize=14)\n",
    "# plt.title(f\"BS MLG trunc={U.shape[0]}->{U.shape[-1]},\\n Ncells={Ncells}, ecut={ecutoff}, bc={Nbc}\", fontsize=14)\n",
    "# plt.tight_layout()\n",
    "# plt.savefig(f\"img/{fname}.png\", dpi=150)"
   ]
  },
  {
   "cell_type": "code",
   "execution_count": 163,
   "id": "5ecb8aa2-0936-4ef5-b53b-416f42847ef5",
   "metadata": {},
   "outputs": [
    {
     "data": {
      "text/plain": [
       "(array([ 55.,  42.,  66.,  48.,  72.,  84., 105.,  66.,  24.,  14.,  14.,\n",
       "         24.,  66., 105.,  84.,  72.,  48.,  66.,  42.,  55.]),\n",
       " array([-3. , -2.7, -2.4, -2.1, -1.8, -1.5, -1.2, -0.9, -0.6, -0.3,  0. ,\n",
       "         0.3,  0.6,  0.9,  1.2,  1.5,  1.8,  2.1,  2.4,  2.7,  3. ]),\n",
       " <BarContainer object of 20 artists>)"
      ]
     },
     "execution_count": 163,
     "metadata": {},
     "output_type": "execute_result"
    },
    {
     "data": {
      "image/png": "[encoded data removed]",
      "text/plain": [
       "<Figure size 432x288 with 1 Axes>"
      ]
     },
     "metadata": {
      "needs_background": "light"
     },
     "output_type": "display_data"
    }
   ],
   "source": [
    "plt.hist(er.ravel(), bins=10, alpha=.4, edgecolor=\"black\");\n",
    "plt.hist(evals.ravel(), bins=20, alpha=.4)"
   ]
  },
  {
   "cell_type": "code",
   "execution_count": 166,
   "id": "073ccb4a-e7ed-40a2-807f-3e89b8e195e2",
   "metadata": {},
   "outputs": [
    {
     "data": {
      "text/plain": [
       "(array([ 55.,  42.,  66.,  48.,  72.,  84., 105.,  66.,  24.,  14.,  14.,\n",
       "         24.,  66., 105.,  84.,  72.,  48.,  66.,  42.,  55.]),\n",
       " array([-3. , -2.7, -2.4, -2.1, -1.8, -1.5, -1.2, -0.9, -0.6, -0.3,  0. ,\n",
       "         0.3,  0.6,  0.9,  1.2,  1.5,  1.8,  2.1,  2.4,  2.7,  3. ]),\n",
       " <BarContainer object of 20 artists>)"
      ]
     },
     "execution_count": 166,
     "metadata": {},
     "output_type": "execute_result"
    },
    {
     "data": {
      "image/png": "[encoded data removed]",
      "text/plain": [
       "<Figure size 432x288 with 1 Axes>"
      ]
     },
     "metadata": {
      "needs_background": "light"
     },
     "output_type": "display_data"
    }
   ],
   "source": [
    "plt.hist(er.ravel(), bins=20, alpha=.4, edgecolor=\"black\");\n",
    "plt.hist(evals.ravel(), bins=20, alpha=.4)"
   ]
  },
  {
   "cell_type": "code",
   "execution_count": null,
   "id": "9b563795-d1aa-4f2b-8085-eda3ec3ab786",
   "metadata": {},
   "outputs": [],
   "source": []
  }
 ],
 "metadata": {
  "kernelspec": {
   "display_name": "Python 3 (ipykernel)",
   "language": "python",
   "name": "python3"
  },
  "language_info": {
   "codemirror_mode": {
    "name": "ipython",
    "version": 3
   },
   "file_extension": ".py",
   "mimetype": "text/x-python",
   "name": "python",
   "nbconvert_exporter": "python",
   "pygments_lexer": "ipython3",
   "version": "3.9.7"
  }
 },
 "nbformat": 4,
 "nbformat_minor": 5
}
