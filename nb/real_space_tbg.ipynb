{
 "cells": [
  {
   "cell_type": "code",
   "execution_count": 1,
   "id": "fa7d3a8f-bfcf-4e37-8634-43e391b4f140",
   "metadata": {},
   "outputs": [],
   "source": [
    "%load_ext autoreload\n",
    "%autoreload 2"
   ]
  },
  {
   "cell_type": "code",
   "execution_count": 31,
   "id": "b0bcfd31-fac0-4af3-9018-fc2b3605d218",
   "metadata": {},
   "outputs": [],
   "source": [
    "import matplotlib.pyplot as plt\n",
    "import numpy as np\n",
    "import sys"
   ]
  },
  {
   "cell_type": "code",
   "execution_count": null,
   "id": "d50a1176-fba5-43df-a369-ad7fa8e7ce51",
   "metadata": {},
   "outputs": [],
   "source": []
  },
  {
   "cell_type": "code",
   "execution_count": 30,
   "id": "2a154c49-d396-4cfb-be68-5ce0b8fdf2c9",
   "metadata": {},
   "outputs": [],
   "source": [
    "def yukawa(r1, r2, L=None):\n",
    "    if L is None:\n",
    "        L = 1. / (r1[:, 0].max() - r1[:, 0].min())\n",
    "    diff = r1[:, np.newaxis, :] - r2[np.newaxis, :, :]\n",
    "    diff_norm = np.linalg.norm(diff, axis=-1)\n",
    "    return np.exp(-L*diff_norm) / diff_norm"
   ]
  },
  {
   "cell_type": "code",
   "execution_count": 12,
   "id": "b84e2636-3212-4bb2-ab0c-2a2f3a8fd377",
   "metadata": {},
   "outputs": [
    {
     "name": "stderr",
     "output_type": "stream",
     "text": [
      "/var/folders/3w/2wdtqqh96rz59zsknhz3hrfw0000gn/T/ipykernel_41832/1060998050.py:2: RuntimeWarning: invalid value encountered in true_divide\n",
      "  return 2*np.pi*np.tanh(q * d / 2) / q\n"
     ]
    }
   ],
   "source": [
    "Vq = gate_screened_coulomb_fourier(q)"
   ]
  },
  {
   "cell_type": "code",
   "execution_count": null,
   "id": "96b6b45b-2931-4696-b13f-3c833302f235",
   "metadata": {},
   "outputs": [],
   "source": [
    "q"
   ]
  },
  {
   "cell_type": "code",
   "execution_count": 13,
   "id": "a5edec10-a0e0-4ec5-8431-5a85a733afe4",
   "metadata": {},
   "outputs": [
    {
     "data": {
      "text/plain": [
       "[<matplotlib.lines.Line2D at 0x12aa45040>]"
      ]
     },
     "execution_count": 13,
     "metadata": {},
     "output_type": "execute_result"
    },
    {
     "data": {
      "image/png": "[encoded data removed]",
      "text/plain": [
       "<Figure size 432x288 with 1 Axes>"
      ]
     },
     "metadata": {
      "needs_background": "light"
     },
     "output_type": "display_data"
    }
   ],
   "source": [
    "plt.plot(q, Vq)"
   ]
  },
  {
   "cell_type": "code",
   "execution_count": 6,
   "id": "2113c660-cdd9-4c0b-8271-e835ee3cb49f",
   "metadata": {},
   "outputs": [],
   "source": [
    "r = np.linspace(1, 100, 1000)\n",
    "V = gate_screened_coulomb(r)"
   ]
  },
  {
   "cell_type": "code",
   "execution_count": 7,
   "id": "9b9f361b-ed05-4030-927e-e83f189d5153",
   "metadata": {},
   "outputs": [
    {
     "data": {
      "text/plain": [
       "[<matplotlib.lines.Line2D at 0x128ddef70>]"
      ]
     },
     "execution_count": 7,
     "metadata": {},
     "output_type": "execute_result"
    },
    {
     "data": {
      "image/png": "[encoded data removed]",
      "text/plain": [
       "<Figure size 432x288 with 1 Axes>"
      ]
     },
     "metadata": {
      "needs_background": "light"
     },
     "output_type": "display_data"
    }
   ],
   "source": [
    "plt.plot(r, V)"
   ]
  },
  {
   "cell_type": "code",
   "execution_count": null,
   "id": "2ac009e6-824e-4a21-ab05-90e58222b0cf",
   "metadata": {},
   "outputs": [],
   "source": []
  }
 ],
 "metadata": {
  "kernelspec": {
   "display_name": "Python 3 (ipykernel)",
   "language": "python",
   "name": "python3"
  },
  "language_info": {
   "codemirror_mode": {
    "name": "ipython",
    "version": 3
   },
   "file_extension": ".py",
   "mimetype": "text/x-python",
   "name": "python",
   "nbconvert_exporter": "python",
   "pygments_lexer": "ipython3",
   "version": "3.9.7"
  }
 },
 "nbformat": 4,
 "nbformat_minor": 5
}
