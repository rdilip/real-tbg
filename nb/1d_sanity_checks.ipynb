{
 "cells": [
  {
   "cell_type": "code",
   "execution_count": 1,
   "id": "8c157ed4-72af-4a5a-8019-197743079b83",
   "metadata": {},
   "outputs": [],
   "source": [
    "%load_ext autoreload\n",
    "%autoreload 2"
   ]
  },
  {
   "cell_type": "code",
   "execution_count": 2,
   "id": "b3f83d1d-39b4-4eff-b44d-74995da74096",
   "metadata": {},
   "outputs": [],
   "source": [
    "import sys\n",
    "sys.path.append(\"../src\")"
   ]
  },
  {
   "cell_type": "code",
   "execution_count": 3,
   "id": "747c8322-264b-4e9c-9c5c-9e20451cfaa0",
   "metadata": {},
   "outputs": [],
   "source": [
    "import numpy as np\n",
    "from tb import *\n",
    "from hamiltonians import *"
   ]
  },
  {
   "cell_type": "markdown",
   "id": "5504dc8a-f470-427b-8efa-45afed1f9664",
   "metadata": {},
   "source": [
    "## Check 1: When we switch to the cluster basis, do we relabel and get the same k points? Do we get the same eigenstates?"
   ]
  },
  {
   "cell_type": "code",
   "execution_count": 4,
   "id": "71f0eaec-e6a3-4f6d-9965-95036d73a1da",
   "metadata": {},
   "outputs": [],
   "source": [
    "N = 4\n",
    "H = oned_chain_hamiltonian(N, J=1)#.reshape((1,1,N,N))\n",
    "T = np.arange(N).reshape((N, 1))\n",
    "b = 2*np.pi*np.linalg.inv([[1.]])\n",
    "k = get_kpt_mesh((N,), b)\n",
    "basis = np.eye(N).reshape((len(T), N, 1)) # number of translation vectors, total N, number of orbitals\n",
    "chik = get_bloch_wavefunction(k, T, basis)\n",
    "\n",
    "P = get_momentum_operator(chik, k.ravel())"
   ]
  },
  {
   "cell_type": "code",
   "execution_count": 5,
   "id": "abfa9922-e918-43ed-8aac-d70ab087f293",
   "metadata": {},
   "outputs": [
    {
     "data": {
      "text/plain": [
       "True"
      ]
     },
     "execution_count": 5,
     "metadata": {},
     "output_type": "execute_result"
    }
   ],
   "source": [
    "np.allclose(H @ P - P @ H, 0.)"
   ]
  },
  {
   "cell_type": "code",
   "execution_count": 6,
   "id": "0dddbbe4-8813-4f5d-9786-3ea60a3668c7",
   "metadata": {},
   "outputs": [],
   "source": [
    "hcluster = oned_chain_hamiltonian(2, J=1)\n",
    "_, u = np.linalg.eigh(hcluster)\n",
    "U = np.block([[u, np.zeros(u.shape)],[np.zeros(u.shape), u]])\n",
    "kp, ep, _  = basis_transform_and_relabel(H, [P], U, Norb=1)\n",
    "\n",
    "assert np.allclose(kp.imag, 0.0)\n",
    "kp = kp.real"
   ]
  },
  {
   "cell_type": "code",
   "execution_count": 8,
   "id": "639e3b5e-6502-449d-aa82-e495aa3d3149",
   "metadata": {},
   "outputs": [
    {
     "name": "stdout",
     "output_type": "stream",
     "text": [
      "[-1.57079633  0.          1.57079633  3.14159265]\n",
      "[-1.57079633 -0.          1.57079633  3.14159265]\n"
     ]
    }
   ],
   "source": [
    "print(k.ravel())\n",
    "print(np.round(kp, 10).ravel())"
   ]
  },
  {
   "cell_type": "markdown",
   "id": "89fd5f59-4915-4198-81b0-11d210573c43",
   "metadata": {},
   "source": [
    "## Check 2: What happens when we start to truncate things?"
   ]
  },
  {
   "cell_type": "markdown",
   "id": "81604665-90e0-41b5-bcdd-cdc4f4585307",
   "metadata": {},
   "source": [
    "### With truncation, just periodic BC"
   ]
  },
  {
   "cell_type": "code",
   "execution_count": 9,
   "id": "680f6cee-6e96-4eab-b176-452e2e0adeb6",
   "metadata": {},
   "outputs": [],
   "source": [
    "N = 128\n",
    "H = oned_chain_hamiltonian(N, J=1)#.reshape((1,1,N,N))\n",
    "T = np.arange(N).reshape((N, 1))\n",
    "b = 2*np.pi*np.linalg.inv([[1.]])\n",
    "k = get_kpt_mesh((N,), b)\n",
    "basis = np.eye(N).reshape((len(T), N, 1)) # number of translation vectors, total N, number of orbitals\n",
    "chik = get_bloch_wavefunction(k, T, basis)\n",
    "Hk = expectation(chik, H)\n",
    "ek = np.linalg.eigvalsh(Hk)\n",
    "\n",
    "P = get_momentum_operator(chik, k.ravel())\n",
    "P2 = P @ P"
   ]
  },
  {
   "cell_type": "code",
   "execution_count": 12,
   "id": "e0ab7177-3099-41ca-9323-1e8dcba3ebb4",
   "metadata": {},
   "outputs": [
    {
     "name": "stdout",
     "output_type": "stream",
     "text": [
      "(128, 40)\n"
     ]
    }
   ],
   "source": [
    "Nblocks = 4\n",
    "assert N % Nblocks == 0\n",
    "hcluster_p = oned_chain_hamiltonian(N//Nblocks, J=1, bc=1)\n",
    "hcluster_a = oned_chain_hamiltonian(N//Nblocks, J=1, bc=-1)\n",
    "ea, ua = np.linalg.eigh(hcluster_p)\n",
    "\n",
    "u = ua[:, np.abs(ea) <= 1][:, :]\n",
    "\n",
    "U = get_block_transformation_matrix(u, Nblocks)\n",
    "print(U.shape)"
   ]
  },
  {
   "cell_type": "code",
   "execution_count": 13,
   "id": "aba2bf49-08d2-442e-b0b7-9aae73b0e355",
   "metadata": {},
   "outputs": [
    {
     "data": {
      "image/png": "[encoded data removed]",
      "text/plain": [
       "<Figure size 432x288 with 1 Axes>"
      ]
     },
     "metadata": {
      "needs_background": "light"
     },
     "output_type": "display_data"
    }
   ],
   "source": [
    "kp, ep, _  = basis_transform_and_relabel(H, [P], U, Norb=1)\n",
    "#assert np.allclose(kp.imag, 0.0)\n",
    "#kp = kp.real\n",
    "plt.xticks(fontsize=14)\n",
    "plt.yticks(fontsize=14)\n",
    "plt.ylabel(\"Energy\", fontsize=16)\n",
    "plt.xlabel(\"k\", fontsize=16)\n",
    "plt.scatter(kp, ep, )\n",
    "plt.plot(k, ek, c='C1')\n",
    "plt.savefig(\"img/1d_pbc_trunc_none.png\", bbox_inches='tight')"
   ]
  },
  {
   "cell_type": "markdown",
   "id": "52d56251-8bcf-4b3d-bf33-67402e0bb14d",
   "metadata": {},
   "source": [
    "## With periodic and antiperiodic BC"
   ]
  },
  {
   "cell_type": "code",
   "execution_count": 14,
   "id": "17da5590-040f-469c-83b7-646fff6b37cc",
   "metadata": {},
   "outputs": [],
   "source": [
    "N = 128\n",
    "H = oned_chain_hamiltonian(N, J=1)#.reshape((1,1,N,N))\n",
    "T = np.arange(N).reshape((N, 1))\n",
    "b = 2*np.pi*np.linalg.inv([[1.]])\n",
    "k = get_kpt_mesh((N,), b)\n",
    "basis = np.eye(N).reshape((len(T), N, 1)) # number of translation vectors, total N, number of orbitals\n",
    "chik = get_bloch_wavefunction(k, T, basis)\n",
    "Hk = expectation(chik, H)\n",
    "ek = np.linalg.eigvalsh(Hk)\n",
    "\n",
    "P = get_momentum_operator(chik, k.ravel())\n",
    "P2 = P@P"
   ]
  },
  {
   "cell_type": "code",
   "execution_count": 15,
   "id": "7e6e4e25-4ce5-479c-bac6-6a05eb822e2c",
   "metadata": {},
   "outputs": [],
   "source": [
    "Nblocks = 4"
   ]
  },
  {
   "cell_type": "code",
   "execution_count": 16,
   "id": "6e6cf450-0073-4bc2-abbc-950d04a23459",
   "metadata": {},
   "outputs": [
    {
     "name": "stdout",
     "output_type": "stream",
     "text": [
      "(128, 88)\n"
     ]
    }
   ],
   "source": [
    "assert N % Nblocks == 0\n",
    "hcluster_p = oned_chain_hamiltonian(N//Nblocks, J=1, bc=1)\n",
    "hcluster_a = oned_chain_hamiltonian(N//Nblocks, J=1, bc=-1)\n",
    "ea, ua = np.linalg.eigh(hcluster_p)\n",
    "eb, ub = np.linalg.eigh(hcluster_a)\n",
    "ecutoff = 1.\n",
    "\n",
    "ua = ua[:, np.abs(ea) < ecutoff]\n",
    "ub = ub[:, np.abs(eb) < ecutoff]\n",
    "\n",
    "assert len(ua) + len(ub) > 0\n",
    "\n",
    "u = np.concatenate([ua, ub], axis=1)\n",
    "q, r = np.linalg.qr(u)\n",
    "\n",
    "U = get_block_transformation_matrix(q, Nblocks)\n",
    "print(U.shape)"
   ]
  },
  {
   "cell_type": "code",
   "execution_count": 17,
   "id": "1dd7f583-a03c-441f-9ef9-4b09d1ae07a9",
   "metadata": {},
   "outputs": [],
   "source": [
    "kp, ep, _ = basis_transform_and_relabel(H, [P], U, Norb=1)"
   ]
  },
  {
   "cell_type": "code",
   "execution_count": 18,
   "id": "cfc3fa8a-7fb2-4d50-ba90-067a3dda4627",
   "metadata": {},
   "outputs": [
    {
     "data": {
      "image/png": "[encoded data removed]",
      "text/plain": [
       "<Figure size 432x288 with 1 Axes>"
      ]
     },
     "metadata": {
      "needs_background": "light"
     },
     "output_type": "display_data"
    }
   ],
   "source": [
    "plt.scatter(kp, ep)\n",
    "plt.plot(k, ek, c='C1')\n",
    "plt.xticks(fontsize=14)\n",
    "plt.yticks(fontsize=14)\n",
    "plt.xlabel(\"k\", fontsize=14)\n",
    "plt.ylabel(\"Energy\", fontsize=14)\n",
    "plt.savefig(\"img/1d_pbc_both_bc.png\", bbox_inches='tight')"
   ]
  },
  {
   "cell_type": "markdown",
   "id": "d6a06d50-ed69-4f55-8f9b-42f896f68825",
   "metadata": {},
   "source": [
    "### Multiple blocks"
   ]
  },
  {
   "cell_type": "code",
   "execution_count": 19,
   "id": "5eb81cbb-2303-4a6a-9614-c6f43a6d113c",
   "metadata": {},
   "outputs": [],
   "source": [
    "N = 32\n",
    "H = oned_chain_hamiltonian(N, J=1)#.reshape((1,1,N,N))\n",
    "T = np.arange(N).reshape((N, 1))\n",
    "b = 2*np.pi*np.linalg.inv([[1.]])\n",
    "k = get_kpt_mesh((N,), b)\n",
    "basis = np.eye(N).reshape((len(T), N, 1)) # number of translation vectors, total N, number of orbitals\n",
    "chik = get_bloch_wavefunction(k, T, basis)\n",
    "Hk = expectation(chik, H)\n",
    "ek = np.linalg.eigvalsh(Hk)\n",
    "\n",
    "P = get_momentum_operator(chik, k.ravel())\n",
    "P2 = P@P"
   ]
  },
  {
   "cell_type": "code",
   "execution_count": 20,
   "id": "a9feaa39-dd54-44d2-87bf-686ab804c13f",
   "metadata": {},
   "outputs": [],
   "source": [
    "Nblocks = 4\n",
    "Nperblock = N // Nblocks"
   ]
  },
  {
   "cell_type": "code",
   "execution_count": 25,
   "id": "347ebb30-6d69-4c63-bd7e-3c38a989812b",
   "metadata": {},
   "outputs": [
    {
     "name": "stdout",
     "output_type": "stream",
     "text": [
      "(32, 24)\n"
     ]
    }
   ],
   "source": [
    "T = Nperblock * np.arange(Nblocks).reshape((Nblocks, 1))\n",
    "b = 2*np.pi*np.linalg.inv([[1.]])\n",
    "\n",
    "hcluster_p = oned_chain_hamiltonian(N//Nblocks, J=1, bc=1)\n",
    "hcluster_a = oned_chain_hamiltonian(N//Nblocks, J=1, bc=-1)\n",
    "\n",
    "# k_block = get_kpt_mesh(N, \n",
    "# chik_small = get_bloch_wavefunction\n",
    "\n",
    "ea, ua = np.linalg.eigh(hcluster_p)\n",
    "eb, ub = np.linalg.eigh(hcluster_a)\n",
    "                       \n",
    "ecutoff = 1.\n",
    "\n",
    "ua = ua[:, np.abs(ea) < ecutoff]\n",
    "ub = ub[:, np.abs(eb) < ecutoff]\n",
    "\n",
    "assert len(ua) + len(ub) > 0\n",
    "\n",
    "u = np.concatenate([ua, ub], axis=1)\n",
    "q, r = np.linalg.qr(u)\n",
    "\n",
    "U = get_block_transformation_matrix(q, Nblocks)\n",
    "print(U.shape)"
   ]
  },
  {
   "cell_type": "code",
   "execution_count": 26,
   "id": "bd0ff84b-d40d-4c60-98df-d52e060fa9ff",
   "metadata": {},
   "outputs": [],
   "source": [
    "kp, ep, _ = basis_transform_and_relabel(H, [P], U, Norb=1)"
   ]
  }
 ],
 "metadata": {
  "kernelspec": {
   "display_name": "Python 3 (ipykernel)",
   "language": "python",
   "name": "python3"
  },
  "language_info": {
   "codemirror_mode": {
    "name": "ipython",
    "version": 3
   },
   "file_extension": ".py",
   "mimetype": "text/x-python",
   "name": "python",
   "nbconvert_exporter": "python",
   "pygments_lexer": "ipython3",
   "version": "3.9.7"
  }
 },
 "nbformat": 4,
 "nbformat_minor": 5
}
