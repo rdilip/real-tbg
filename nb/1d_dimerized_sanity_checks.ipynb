{
 "cells": [
  {
   "cell_type": "code",
   "execution_count": 1,
   "id": "8c157ed4-72af-4a5a-8019-197743079b83",
   "metadata": {},
   "outputs": [],
   "source": [
    "%load_ext autoreload\n",
    "%autoreload 2"
   ]
  },
  {
   "cell_type": "code",
   "execution_count": 2,
   "id": "747c8322-264b-4e9c-9c5c-9e20451cfaa0",
   "metadata": {},
   "outputs": [],
   "source": [
    "import numpy as np\n",
    "import sys\n",
    "sys.path.append(\"../src\")\n",
    "from tb import *\n",
    "from hamiltonians import *"
   ]
  },
  {
   "cell_type": "markdown",
   "id": "d1586ce4-91fc-4f08-89f8-c8fabb90f2fe",
   "metadata": {},
   "source": [
    "# Check 1: just check that dimer model is working"
   ]
  },
  {
   "cell_type": "code",
   "execution_count": 3,
   "id": "dba0aa1c-02b4-4399-867e-7b86fb392ff7",
   "metadata": {},
   "outputs": [],
   "source": [
    "N = 20\n",
    "Norb = 2\n",
    "Nb = 2\n",
    "Nk = N // Norb\n",
    "H = oned_chain_hamiltonian(N, J=1, dimer=0.2)#.reshape((1,1,N,N))\n",
    "a = np.array([[2]])\n",
    "T = (np.arange(Nk) * a).reshape((Nk, 1))\n",
    "b = 2*np.pi*np.linalg.inv(a)\n",
    "k = get_kpt_mesh((Nk,), b)\n",
    "\n",
    "basis = np.eye(N).reshape((len(T), 2, N)).transpose((0,2,1)) # number of translation vectors, total N, number of orbitals\n",
    "chik = get_bloch_wavefunction(k, T, basis)\n",
    "\n",
    "P = get_momentum_operator(chik, k[:, 0])\n",
    "Hk = np.einsum(\"kim,ij,kjn->kmn\", chik.conj(), H, chik)\n",
    "es = np.linalg.eigvalsh(Hk)\n",
    "\n",
    "Hk = oned_chain_k_hamiltonian(k, a[0], J=1, h=0, dimer=.2)\n",
    "e_exact = np.linalg.eigvalsh(Hk)"
   ]
  },
  {
   "cell_type": "code",
   "execution_count": 4,
   "id": "f03fbfd7-1eb9-44dd-bf22-fb6c88b2576e",
   "metadata": {},
   "outputs": [],
   "source": [
    "def get_exact_energy(ka, J=1, delta=.2):\n",
    "    return 2*J*np.sqrt(1 - (1-delta*delta)*np.sin(ka)*np.sin(ka))"
   ]
  },
  {
   "cell_type": "code",
   "execution_count": 5,
   "id": "f92a1aa4-5439-4953-9b9a-97690914d0f2",
   "metadata": {},
   "outputs": [],
   "source": [
    "E = get_exact_energy(np.linspace(0, np.pi, 100))"
   ]
  },
  {
   "cell_type": "code",
   "execution_count": 6,
   "id": "f4a68925-7d4e-4c11-b456-dc4fa417bb68",
   "metadata": {},
   "outputs": [
    {
     "data": {
      "text/plain": [
       "[<matplotlib.lines.Line2D at 0x11cc155e0>,\n",
       " <matplotlib.lines.Line2D at 0x11cc156d0>]"
      ]
     },
     "execution_count": 6,
     "metadata": {},
     "output_type": "execute_result"
    },
    {
     "data": {
      "image/png": "[encoded data removed]",
      "text/plain": [
       "<Figure size 432x288 with 1 Axes>"
      ]
     },
     "metadata": {
      "needs_background": "light"
     },
     "output_type": "display_data"
    }
   ],
   "source": [
    "plt.plot(k, e_exact, c='C0')\n",
    "plt.plot(k, -e_exact, c='C0')\n",
    "\n",
    "plt.plot(k, es, \"-o\", c='C1')"
   ]
  },
  {
   "cell_type": "markdown",
   "id": "5504dc8a-f470-427b-8efa-45afed1f9664",
   "metadata": {},
   "source": [
    "# Check 2: Switch to cluster basis and relabel, no truncation yet"
   ]
  },
  {
   "cell_type": "markdown",
   "id": "5ebdd0eb-ca09-4a79-a5e1-a9f112b4ffaa",
   "metadata": {},
   "source": [
    "Let $H$ be the normal Hamiltonian, which we can divide into $N_b$ clusters and we can diagonalize each of these. "
   ]
  },
  {
   "cell_type": "code",
   "execution_count": 7,
   "id": "71f0eaec-e6a3-4f6d-9965-95036d73a1da",
   "metadata": {},
   "outputs": [],
   "source": [
    "N = 32\n",
    "Norb = 2\n",
    "Nb = 1\n",
    "\n",
    "dimer = .05\n",
    "Nk = N // Norb\n",
    "H = oned_chain_hamiltonian(N, J=1, dimer=dimer)#.reshape((1,1,N,N))\n",
    "a = np.array([[2]])\n",
    "T = (np.arange(Nk) * a).reshape((Nk, 1))\n",
    "b = 2*np.pi*np.linalg.inv(a)\n",
    "k = get_kpt_mesh((Nk,), b)\n",
    "\n",
    "basis = np.eye(N).reshape((len(T), 2, N)).transpose((0,2,1)) # number of translation vectors, total N, number of orbitals\n",
    "chik = get_bloch_wavefunction(k, T, basis)\n",
    "\n",
    "P = get_momentum_operator(chik, k[:, 0])\n",
    "Hk = np.einsum(\"kim,ij,kjn->kmn\", chik.conj(), H, chik)\n",
    "es = np.linalg.eigvalsh(Hk)"
   ]
  },
  {
   "cell_type": "code",
   "execution_count": 8,
   "id": "0dddbbe4-8813-4f5d-9786-3ea60a3668c7",
   "metadata": {},
   "outputs": [
    {
     "name": "stdout",
     "output_type": "stream",
     "text": [
      "(32, 32)\n"
     ]
    }
   ],
   "source": [
    "hcluster = oned_chain_hamiltonian(N//Nb, J=1, dimer=dimer)\n",
    "_, u = np.linalg.eigh(hcluster)\n",
    "q, r = np.linalg.qr(u)\n",
    "U = get_block_transformation_matrix(q, Nb)\n",
    "#U = np.block([[q, np.zeros(q.shape)],[np.zeros(q.shape), q]])\n",
    "\n",
    "kp, ep, V = basis_transform_and_relabel(H, [P], U, Norb=2)\n",
    "\n",
    "assert np.allclose(kp.imag, 0.0)\n",
    "kp = kp.real\n",
    "print(q.shape)"
   ]
  },
  {
   "cell_type": "code",
   "execution_count": 10,
   "id": "0e337dc4-bd55-402a-bd50-ace744419026",
   "metadata": {},
   "outputs": [
    {
     "data": {
      "image/png": "[encoded data removed]",
      "text/plain": [
       "<Figure size 432x288 with 1 Axes>"
      ]
     },
     "metadata": {
      "needs_background": "light"
     },
     "output_type": "display_data"
    }
   ],
   "source": [
    "plt.plot(k, es)\n",
    "for i in range(2):\n",
    "    plt.scatter(kp.ravel(), ep[:, i])"
   ]
  },
  {
   "cell_type": "markdown",
   "id": "89fd5f59-4915-4198-81b0-11d210573c43",
   "metadata": {},
   "source": [
    "# Check 3: What happens when we start to truncate things? note this is a really bad hamiltonian bc nothing at fermi level"
   ]
  },
  {
   "cell_type": "markdown",
   "id": "81604665-90e0-41b5-bcdd-cdc4f4585307",
   "metadata": {},
   "source": [
    "## With truncation"
   ]
  },
  {
   "cell_type": "code",
   "execution_count": 22,
   "id": "389baa4e-4edf-40be-91e7-04da3706f254",
   "metadata": {},
   "outputs": [],
   "source": [
    "N = 32\n",
    "Norb = 2\n",
    "Nb = 4\n",
    "\n",
    "dimer = .05\n",
    "Nk = N // Norb # N unit cells\n",
    "\n",
    "H = oned_chain_hamiltonian(N, J=1, dimer=dimer)#.reshape((1,1,N,N))\n",
    "a = np.array([[2]])\n",
    "T = (np.arange(Nk) * a).reshape((Nk, 1))\n",
    "b = 2*np.pi*np.linalg.inv(a)\n",
    "k = get_kpt_mesh((Nk,), b)\n",
    "\n",
    "basis = np.eye(N).reshape((len(T), 2, N)).transpose((0,2,1)) # number of translation vectors, total N, number of orbitals\n",
    "chik = get_bloch_wavefunction(k, T, basis)\n",
    "\n",
    "P = get_momentum_operator(chik, k[:, 0])\n",
    "Hk = np.einsum(\"kim,ij,kjn->kmn\", chik.conj(), H, chik)\n",
    "es = np.linalg.eigvalsh(Hk)"
   ]
  },
  {
   "cell_type": "code",
   "execution_count": 23,
   "id": "9441cc52-4c86-4e4b-9c09-bc8c4dcbae8a",
   "metadata": {},
   "outputs": [
    {
     "name": "stdout",
     "output_type": "stream",
     "text": [
      "(32, 24)\n"
     ]
    }
   ],
   "source": [
    "hcluster = oned_chain_hamiltonian(N//Nb, J=1, dimer=dimer, bc=1)\n",
    "ep, up = np.linalg.eigh(hcluster)\n",
    "\n",
    "hcluster = oned_chain_hamiltonian(N//Nb, J=1, dimer=dimer, bc=-1)\n",
    "ea, ua = np.linalg.eigh(hcluster)\n",
    "e_cutoff = 1\n",
    "\n",
    "up = up[:, np.abs(ep) < e_cutoff]\n",
    "ua = ua[:, np.abs(ea) < e_cutoff]\n",
    "\n",
    "q, r = np.linalg.qr(np.hstack([up, ua]))\n",
    "\n",
    "U = get_block_transformation_matrix(q, Nb)\n",
    "\n",
    "kp, ep, _ = basis_transform_and_relabel(H, [P], U, Norb=2)\n",
    "\n",
    "\n",
    "assert np.allclose(kp.imag, 0.0)\n",
    "kp = kp.real\n",
    "print(U.shape)"
   ]
  },
  {
   "cell_type": "code",
   "execution_count": 24,
   "id": "f448b822-172e-4cdf-b4f4-f09452b4d7d4",
   "metadata": {},
   "outputs": [
    {
     "data": {
      "image/png": "[encoded data removed]",
      "text/plain": [
       "<Figure size 432x288 with 1 Axes>"
      ]
     },
     "metadata": {
      "needs_background": "light"
     },
     "output_type": "display_data"
    }
   ],
   "source": [
    "plt.plot(k, es)\n",
    "for i in range(2):\n",
    "    plt.scatter(kp, ep[:, i])\n",
    "plt.xlabel(\"Energy\", fontsize=14)\n",
    "plt.ylabel(\"k\", fontsize=14)\n",
    "plt.xticks(fontsize=12)\n",
    "plt.yticks(fontsize=12)\n",
    "plt.savefig(\"img/dimerized_pbc.png\", bbox_inches='tight')"
   ]
  }
 ],
 "metadata": {
  "kernelspec": {
   "display_name": "Python 3 (ipykernel)",
   "language": "python",
   "name": "python3"
  },
  "language_info": {
   "codemirror_mode": {
    "name": "ipython",
    "version": 3
   },
   "file_extension": ".py",
   "mimetype": "text/x-python",
   "name": "python",
   "nbconvert_exporter": "python",
   "pygments_lexer": "ipython3",
   "version": "3.9.7"
  }
 },
 "nbformat": 4,
 "nbformat_minor": 5
}
